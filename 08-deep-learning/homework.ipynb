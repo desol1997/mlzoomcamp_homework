{
 "cells": [
  {
   "cell_type": "markdown",
   "id": "90f30073-d181-4712-8a5d-53f2bd3b245c",
   "metadata": {},
   "source": [
    "# Deep Learning - Homework"
   ]
  },
  {
   "cell_type": "markdown",
   "id": "04583a4f-cc37-4420-bafb-c3e4de07ed48",
   "metadata": {},
   "source": [
    "## Dataset"
   ]
  },
  {
   "cell_type": "markdown",
   "id": "1ab93c45-64ab-4c33-ae25-a025cf4878a7",
   "metadata": {},
   "source": [
    "In this homework, we'll build a model for predicting if we have an image of a bee or a wasp. For this, we will use the \"Bee or Wasp?\" dataset that was obtained from [Kaggle](https://www.kaggle.com/datasets/jerzydziewierz/bee-vs-wasp) and slightly rebuilt."
   ]
  },
  {
   "cell_type": "markdown",
   "id": "7807cf58-19b8-40ae-8146-a2d8d875f516",
   "metadata": {},
   "source": [
    "## Data Preparation"
   ]
  },
  {
   "cell_type": "markdown",
   "id": "2954c57c-b5dd-4658-8361-f5bd943b4da3",
   "metadata": {},
   "source": [
    "The dataset contains around 2500 images of bees and around 2100 images of wasps.\n",
    "\n",
    "The dataset contains separate folders for training and test sets."
   ]
  },
  {
   "cell_type": "code",
   "execution_count": 1,
   "id": "cd5ab455-28b0-4b67-a5d2-b57bf624f09a",
   "metadata": {
    "execution": {
     "iopub.execute_input": "2023-11-19T15:52:42.611000Z",
     "iopub.status.busy": "2023-11-19T15:52:42.610769Z",
     "iopub.status.idle": "2023-11-19T15:52:43.261545Z",
     "shell.execute_reply": "2023-11-19T15:52:43.260939Z",
     "shell.execute_reply.started": "2023-11-19T15:52:42.610974Z"
    },
    "tags": []
   },
   "outputs": [],
   "source": [
    "import numpy as np\n",
    "import matplotlib.pyplot as plt\n",
    "\n",
    "%matplotlib inline"
   ]
  },
  {
   "cell_type": "code",
   "execution_count": 2,
   "id": "9a70dabe-855a-4f4f-8cdb-7702d005f0a5",
   "metadata": {
    "execution": {
     "iopub.execute_input": "2023-11-19T15:52:43.263314Z",
     "iopub.status.busy": "2023-11-19T15:52:43.262964Z",
     "iopub.status.idle": "2023-11-19T15:52:45.204844Z",
     "shell.execute_reply": "2023-11-19T15:52:45.204093Z",
     "shell.execute_reply.started": "2023-11-19T15:52:43.263292Z"
    },
    "tags": []
   },
   "outputs": [
    {
     "name": "stderr",
     "output_type": "stream",
     "text": [
      "2023-11-19 15:52:43.433209: I tensorflow/core/util/util.cc:169] oneDNN custom operations are on. You may see slightly different numerical results due to floating-point round-off errors from different computation orders. To turn them off, set the environment variable `TF_ENABLE_ONEDNN_OPTS=0`.\n"
     ]
    }
   ],
   "source": [
    "import tensorflow as tf\n",
    "from tensorflow import keras\n",
    "from tensorflow.keras.preprocessing.image import ImageDataGenerator"
   ]
  },
  {
   "cell_type": "markdown",
   "id": "52cb8dfb-b5c1-4810-955d-68c075d44c37",
   "metadata": {},
   "source": [
    "## Model"
   ]
  },
  {
   "cell_type": "markdown",
   "id": "570c2101-82e4-4eef-b9a4-80283da60762",
   "metadata": {},
   "source": [
    "For this homework we will use Convolutional Neural Network (CNN) and Keras to build it."
   ]
  },
  {
   "cell_type": "code",
   "execution_count": 3,
   "id": "10a6833a-3dbf-496b-9b75-41ba19c8ef45",
   "metadata": {
    "execution": {
     "iopub.execute_input": "2023-11-19T15:52:45.206316Z",
     "iopub.status.busy": "2023-11-19T15:52:45.205800Z",
     "iopub.status.idle": "2023-11-19T15:52:46.223062Z",
     "shell.execute_reply": "2023-11-19T15:52:46.222282Z",
     "shell.execute_reply.started": "2023-11-19T15:52:45.206291Z"
    }
   },
   "outputs": [
    {
     "name": "stderr",
     "output_type": "stream",
     "text": [
      "2023-11-19 15:52:45.268737: I tensorflow/stream_executor/cuda/cuda_gpu_executor.cc:975] successful NUMA node read from SysFS had negative value (-1), but there must be at least one NUMA node, so returning NUMA node zero\n",
      "2023-11-19 15:52:45.275570: I tensorflow/stream_executor/cuda/cuda_gpu_executor.cc:975] successful NUMA node read from SysFS had negative value (-1), but there must be at least one NUMA node, so returning NUMA node zero\n",
      "2023-11-19 15:52:45.275817: I tensorflow/stream_executor/cuda/cuda_gpu_executor.cc:975] successful NUMA node read from SysFS had negative value (-1), but there must be at least one NUMA node, so returning NUMA node zero\n",
      "2023-11-19 15:52:45.276733: I tensorflow/core/platform/cpu_feature_guard.cc:193] This TensorFlow binary is optimized with oneAPI Deep Neural Network Library (oneDNN) to use the following CPU instructions in performance-critical operations:  AVX2 AVX512F AVX512_VNNI FMA\n",
      "To enable them in other operations, rebuild TensorFlow with the appropriate compiler flags.\n",
      "2023-11-19 15:52:45.277122: I tensorflow/stream_executor/cuda/cuda_gpu_executor.cc:975] successful NUMA node read from SysFS had negative value (-1), but there must be at least one NUMA node, so returning NUMA node zero\n",
      "2023-11-19 15:52:45.277385: I tensorflow/stream_executor/cuda/cuda_gpu_executor.cc:975] successful NUMA node read from SysFS had negative value (-1), but there must be at least one NUMA node, so returning NUMA node zero\n",
      "2023-11-19 15:52:45.277583: I tensorflow/stream_executor/cuda/cuda_gpu_executor.cc:975] successful NUMA node read from SysFS had negative value (-1), but there must be at least one NUMA node, so returning NUMA node zero\n",
      "2023-11-19 15:52:45.915889: I tensorflow/stream_executor/cuda/cuda_gpu_executor.cc:975] successful NUMA node read from SysFS had negative value (-1), but there must be at least one NUMA node, so returning NUMA node zero\n",
      "2023-11-19 15:52:45.916127: I tensorflow/stream_executor/cuda/cuda_gpu_executor.cc:975] successful NUMA node read from SysFS had negative value (-1), but there must be at least one NUMA node, so returning NUMA node zero\n",
      "2023-11-19 15:52:45.916307: I tensorflow/stream_executor/cuda/cuda_gpu_executor.cc:975] successful NUMA node read from SysFS had negative value (-1), but there must be at least one NUMA node, so returning NUMA node zero\n",
      "2023-11-19 15:52:45.916490: I tensorflow/core/common_runtime/gpu/gpu_device.cc:1532] Created device /job:localhost/replica:0/task:0/device:GPU:0 with 13794 MB memory:  -> device: 0, name: Tesla T4, pci bus id: 0000:00:1e.0, compute capability: 7.5\n"
     ]
    }
   ],
   "source": [
    "model = keras.models.Sequential()\n",
    "model.add(keras.layers.Conv2D(filters=32, kernel_size=(3, 3), activation='relu', input_shape=(150, 150, 3)))\n",
    "model.add(keras.layers.MaxPooling2D((2, 2)))\n",
    "model.add(keras.layers.Flatten())\n",
    "model.add(keras.layers.Dense(64, activation='relu'))\n",
    "model.add(keras.layers.Dense(1, activation='sigmoid'))\n",
    "\n",
    "optimizer = keras.optimizers.SGD(learning_rate=0.002, momentum=0.8)\n",
    "loss = keras.losses.BinaryCrossentropy()\n",
    "model.compile(optimizer=optimizer, loss=loss, metrics=['accuracy'])"
   ]
  },
  {
   "cell_type": "markdown",
   "id": "bb4bf736-6736-43f0-a5d7-37b974eccc8c",
   "metadata": {},
   "source": [
    "### Question 1"
   ]
  },
  {
   "cell_type": "markdown",
   "id": "12de56fe-500b-492f-9f53-d42d328e25a4",
   "metadata": {},
   "source": [
    "Since we have a binary classification problem, what is the best loss function for us?\n",
    "* `mean squared error`\n",
    "* `binary crossentropy`\n",
    "* `categorical crossentropy`\n",
    "* `cosine similarity`"
   ]
  },
  {
   "cell_type": "markdown",
   "id": "bbd0c052-70a5-48f3-bd79-bd32e58d1fa1",
   "metadata": {},
   "source": [
    "For binary classification problem we can use `binary crossentropy` loss funtion."
   ]
  },
  {
   "cell_type": "markdown",
   "id": "6701d387-1a8e-4b43-a21b-6fe3c24a9354",
   "metadata": {},
   "source": [
    "### Question 2"
   ]
  },
  {
   "cell_type": "markdown",
   "id": "0bcd86a5-088d-4a59-bb0b-57dec666f8a1",
   "metadata": {},
   "source": [
    "What's the number of parameters in the convolutional layer of our model?\n",
    "* 1\n",
    "* 65\n",
    "* 896\n",
    "* 11214912"
   ]
  },
  {
   "cell_type": "code",
   "execution_count": 4,
   "id": "24ec5686-9896-415d-9af8-a5d6e8be34c2",
   "metadata": {
    "execution": {
     "iopub.execute_input": "2023-11-19T15:52:46.224657Z",
     "iopub.status.busy": "2023-11-19T15:52:46.224236Z",
     "iopub.status.idle": "2023-11-19T15:52:46.240516Z",
     "shell.execute_reply": "2023-11-19T15:52:46.239838Z",
     "shell.execute_reply.started": "2023-11-19T15:52:46.224623Z"
    },
    "tags": []
   },
   "outputs": [
    {
     "name": "stdout",
     "output_type": "stream",
     "text": [
      "Model: \"sequential\"\n",
      "_________________________________________________________________\n",
      " Layer (type)                Output Shape              Param #   \n",
      "=================================================================\n",
      " conv2d (Conv2D)             (None, 148, 148, 32)      896       \n",
      "                                                                 \n",
      " max_pooling2d (MaxPooling2D  (None, 74, 74, 32)       0         \n",
      " )                                                               \n",
      "                                                                 \n",
      " flatten (Flatten)           (None, 175232)            0         \n",
      "                                                                 \n",
      " dense (Dense)               (None, 64)                11214912  \n",
      "                                                                 \n",
      " dense_1 (Dense)             (None, 1)                 65        \n",
      "                                                                 \n",
      "=================================================================\n",
      "Total params: 11,215,873\n",
      "Trainable params: 11,215,873\n",
      "Non-trainable params: 0\n",
      "_________________________________________________________________\n"
     ]
    }
   ],
   "source": [
    "model.summary()"
   ]
  },
  {
   "cell_type": "markdown",
   "metadata": {},
   "source": [
    "Convolutional layer has 896 parameters."
   ]
  },
  {
   "cell_type": "markdown",
   "id": "90c43b43-3b37-4b8f-ac7b-9d1e59aa7c6f",
   "metadata": {},
   "source": [
    "## Generators and Training"
   ]
  },
  {
   "cell_type": "code",
   "execution_count": 5,
   "id": "db6c907b-d0ba-4ae6-b7fe-b34331776e69",
   "metadata": {
    "execution": {
     "iopub.execute_input": "2023-11-19T15:52:46.241743Z",
     "iopub.status.busy": "2023-11-19T15:52:46.241431Z",
     "iopub.status.idle": "2023-11-19T15:52:46.245627Z",
     "shell.execute_reply": "2023-11-19T15:52:46.244814Z",
     "shell.execute_reply.started": "2023-11-19T15:52:46.241720Z"
    },
    "tags": []
   },
   "outputs": [],
   "source": [
    "gen = ImageDataGenerator(rescale=1./255)"
   ]
  },
  {
   "cell_type": "code",
   "execution_count": 6,
   "id": "61190679-8431-4b09-a111-3e9bb6895c8b",
   "metadata": {
    "execution": {
     "iopub.execute_input": "2023-11-19T15:52:46.247178Z",
     "iopub.status.busy": "2023-11-19T15:52:46.246797Z",
     "iopub.status.idle": "2023-11-19T15:52:46.351580Z",
     "shell.execute_reply": "2023-11-19T15:52:46.350656Z",
     "shell.execute_reply.started": "2023-11-19T15:52:46.247146Z"
    },
    "tags": []
   },
   "outputs": [
    {
     "name": "stdout",
     "output_type": "stream",
     "text": [
      "Found 3677 images belonging to 2 classes.\n"
     ]
    }
   ],
   "source": [
    "train_ds = gen.flow_from_directory(\n",
    "    './data/train',\n",
    "    class_mode='binary',\n",
    "    target_size=(150, 150),\n",
    "    batch_size=20,\n",
    "    shuffle=True\n",
    ")"
   ]
  },
  {
   "cell_type": "code",
   "execution_count": 7,
   "id": "ebf4732e-778d-4892-a26d-5c305316f911",
   "metadata": {
    "execution": {
     "iopub.execute_input": "2023-11-19T15:52:46.354084Z",
     "iopub.status.busy": "2023-11-19T15:52:46.353765Z",
     "iopub.status.idle": "2023-11-19T15:52:46.359364Z",
     "shell.execute_reply": "2023-11-19T15:52:46.358750Z",
     "shell.execute_reply.started": "2023-11-19T15:52:46.354062Z"
    },
    "tags": []
   },
   "outputs": [
    {
     "data": {
      "text/plain": [
       "{'bee': 0, 'wasp': 1}"
      ]
     },
     "execution_count": 7,
     "metadata": {},
     "output_type": "execute_result"
    }
   ],
   "source": [
    "train_ds.class_indices"
   ]
  },
  {
   "cell_type": "code",
   "execution_count": 8,
   "id": "546a5b19-0192-4606-b8f7-a04e6f7395c5",
   "metadata": {
    "execution": {
     "iopub.execute_input": "2023-11-19T15:52:46.360692Z",
     "iopub.status.busy": "2023-11-19T15:52:46.360356Z",
     "iopub.status.idle": "2023-11-19T15:52:46.404158Z",
     "shell.execute_reply": "2023-11-19T15:52:46.403512Z",
     "shell.execute_reply.started": "2023-11-19T15:52:46.360642Z"
    },
    "tags": []
   },
   "outputs": [],
   "source": [
    "X, y = next(train_ds)"
   ]
  },
  {
   "cell_type": "code",
   "execution_count": 9,
   "id": "40efb71a-fd60-41f3-a4b0-ec919644df00",
   "metadata": {
    "execution": {
     "iopub.execute_input": "2023-11-19T15:52:46.405838Z",
     "iopub.status.busy": "2023-11-19T15:52:46.405493Z",
     "iopub.status.idle": "2023-11-19T15:52:46.411317Z",
     "shell.execute_reply": "2023-11-19T15:52:46.410588Z",
     "shell.execute_reply.started": "2023-11-19T15:52:46.405802Z"
    },
    "tags": []
   },
   "outputs": [
    {
     "data": {
      "text/plain": [
       "array([0., 0., 1., 1., 0.], dtype=float32)"
      ]
     },
     "execution_count": 9,
     "metadata": {},
     "output_type": "execute_result"
    }
   ],
   "source": [
    "y[:5]"
   ]
  },
  {
   "cell_type": "code",
   "execution_count": 10,
   "id": "a8feb576-3f92-4e22-a2c5-d7e9b91766c6",
   "metadata": {
    "execution": {
     "iopub.execute_input": "2023-11-19T15:52:46.413249Z",
     "iopub.status.busy": "2023-11-19T15:52:46.412482Z",
     "iopub.status.idle": "2023-11-19T15:52:46.447726Z",
     "shell.execute_reply": "2023-11-19T15:52:46.447052Z",
     "shell.execute_reply.started": "2023-11-19T15:52:46.413215Z"
    },
    "tags": []
   },
   "outputs": [
    {
     "name": "stdout",
     "output_type": "stream",
     "text": [
      "Found 920 images belonging to 2 classes.\n"
     ]
    }
   ],
   "source": [
    "test_ds = gen.flow_from_directory(\n",
    "    './data/test',\n",
    "    class_mode='binary',\n",
    "    target_size=(150, 150),\n",
    "    batch_size=20,\n",
    "    shuffle=True\n",
    ")"
   ]
  },
  {
   "cell_type": "code",
   "execution_count": 11,
   "id": "7ce985c1-58e8-4857-a34a-2e641dd67b67",
   "metadata": {
    "execution": {
     "iopub.execute_input": "2023-11-19T15:52:46.449276Z",
     "iopub.status.busy": "2023-11-19T15:52:46.448853Z",
     "iopub.status.idle": "2023-11-19T15:54:20.546830Z",
     "shell.execute_reply": "2023-11-19T15:54:20.546205Z",
     "shell.execute_reply.started": "2023-11-19T15:52:46.449242Z"
    },
    "tags": []
   },
   "outputs": [
    {
     "name": "stdout",
     "output_type": "stream",
     "text": [
      "Epoch 1/10\n"
     ]
    },
    {
     "name": "stderr",
     "output_type": "stream",
     "text": [
      "2023-11-19 15:52:47.623508: I tensorflow/stream_executor/cuda/cuda_dnn.cc:384] Loaded cuDNN version 8100\n",
      "2023-11-19 15:52:48.268898: I tensorflow/core/platform/default/subprocess.cc:304] Start cannot spawn child process: No such file or directory\n",
      "2023-11-19 15:52:48.269509: I tensorflow/core/platform/default/subprocess.cc:304] Start cannot spawn child process: No such file or directory\n",
      "2023-11-19 15:52:48.269545: W tensorflow/stream_executor/gpu/asm_compiler.cc:80] Couldn't get ptxas version string: INTERNAL: Couldn't invoke ptxas --version\n",
      "2023-11-19 15:52:48.270058: I tensorflow/core/platform/default/subprocess.cc:304] Start cannot spawn child process: No such file or directory\n",
      "2023-11-19 15:52:48.270118: W tensorflow/stream_executor/gpu/redzone_allocator.cc:314] INTERNAL: Failed to launch ptxas\n",
      "Relying on driver to perform ptx compilation. \n",
      "Modify $PATH to customize ptxas location.\n",
      "This message will be only logged once.\n"
     ]
    },
    {
     "name": "stdout",
     "output_type": "stream",
     "text": [
      "184/184 [==============================] - 12s 51ms/step - loss: 0.6815 - accuracy: 0.5586 - val_loss: 0.6443 - val_accuracy: 0.6446\n",
      "Epoch 2/10\n",
      "184/184 [==============================] - 9s 49ms/step - loss: 0.6457 - accuracy: 0.6187 - val_loss: 0.6121 - val_accuracy: 0.5935\n",
      "Epoch 3/10\n",
      "184/184 [==============================] - 9s 49ms/step - loss: 0.5930 - accuracy: 0.6823 - val_loss: 0.5642 - val_accuracy: 0.7000\n",
      "Epoch 4/10\n",
      "184/184 [==============================] - 9s 49ms/step - loss: 0.5457 - accuracy: 0.7376 - val_loss: 0.5337 - val_accuracy: 0.7424\n",
      "Epoch 5/10\n",
      "184/184 [==============================] - 9s 49ms/step - loss: 0.5154 - accuracy: 0.7479 - val_loss: 0.5380 - val_accuracy: 0.7337\n",
      "Epoch 6/10\n",
      "184/184 [==============================] - 9s 49ms/step - loss: 0.4877 - accuracy: 0.7737 - val_loss: 0.5248 - val_accuracy: 0.7467\n",
      "Epoch 7/10\n",
      "184/184 [==============================] - 9s 50ms/step - loss: 0.4602 - accuracy: 0.7968 - val_loss: 0.4989 - val_accuracy: 0.7674\n",
      "Epoch 8/10\n",
      "184/184 [==============================] - 9s 50ms/step - loss: 0.4442 - accuracy: 0.7971 - val_loss: 0.5274 - val_accuracy: 0.7391\n",
      "Epoch 9/10\n",
      "184/184 [==============================] - 9s 49ms/step - loss: 0.4151 - accuracy: 0.8145 - val_loss: 0.4959 - val_accuracy: 0.7522\n",
      "Epoch 10/10\n",
      "184/184 [==============================] - 9s 51ms/step - loss: 0.3756 - accuracy: 0.8390 - val_loss: 0.5509 - val_accuracy: 0.7228\n"
     ]
    }
   ],
   "source": [
    "history = model.fit(train_ds, epochs=10, validation_data=test_ds)"
   ]
  },
  {
   "cell_type": "markdown",
   "id": "73e7696e-f977-47d6-8670-2c53f28b68d1",
   "metadata": {},
   "source": [
    "### Question 3"
   ]
  },
  {
   "cell_type": "markdown",
   "id": "cdc82bd8-a9df-4419-9d43-a7134e7f9293",
   "metadata": {},
   "source": [
    "What is the median of training accuracy for all the epochs for this model?\n",
    "* 0.20\n",
    "* 0.40\n",
    "* 0.60\n",
    "* 0.80"
   ]
  },
  {
   "cell_type": "code",
   "execution_count": 12,
   "id": "4e3c04b6-730e-490a-a039-1d29182ae756",
   "metadata": {
    "execution": {
     "iopub.execute_input": "2023-11-19T15:54:20.548349Z",
     "iopub.status.busy": "2023-11-19T15:54:20.547843Z",
     "iopub.status.idle": "2023-11-19T15:54:20.554634Z",
     "shell.execute_reply": "2023-11-19T15:54:20.553711Z",
     "shell.execute_reply.started": "2023-11-19T15:54:20.548324Z"
    },
    "tags": []
   },
   "outputs": [
    {
     "data": {
      "text/plain": [
       "0.76"
      ]
     },
     "execution_count": 12,
     "metadata": {},
     "output_type": "execute_result"
    }
   ],
   "source": [
    "np.median(history.history['accuracy']).round(2)"
   ]
  },
  {
   "cell_type": "markdown",
   "id": "c62520a1-c81b-494b-8b80-10cef560e316",
   "metadata": {},
   "source": [
    "The median of training accuracy for all the epochs is closed to 0.80"
   ]
  },
  {
   "cell_type": "markdown",
   "id": "6ddf2727-c314-49e6-a8d8-4ba3d5bfe18b",
   "metadata": {},
   "source": [
    "### Question 4"
   ]
  },
  {
   "cell_type": "markdown",
   "id": "e47f916f-9e24-47af-a761-1e5680ed4056",
   "metadata": {},
   "source": [
    "What is the standard deviation of training loss for all the epochs for this model?\n",
    "* 0.031\n",
    "* 0.061\n",
    "* 0.091\n",
    "* 0.131"
   ]
  },
  {
   "cell_type": "code",
   "execution_count": 13,
   "id": "82de7657-602f-4559-9d60-f8347b54786c",
   "metadata": {
    "execution": {
     "iopub.execute_input": "2023-11-19T15:54:20.555788Z",
     "iopub.status.busy": "2023-11-19T15:54:20.555556Z",
     "iopub.status.idle": "2023-11-19T15:54:20.561229Z",
     "shell.execute_reply": "2023-11-19T15:54:20.560586Z",
     "shell.execute_reply.started": "2023-11-19T15:54:20.555750Z"
    },
    "tags": []
   },
   "outputs": [
    {
     "data": {
      "text/plain": [
       "0.095"
      ]
     },
     "execution_count": 13,
     "metadata": {},
     "output_type": "execute_result"
    }
   ],
   "source": [
    "np.std(history.history['loss']).round(3)"
   ]
  },
  {
   "cell_type": "markdown",
   "id": "7820443f-662d-4f68-91c3-abc9463d6304",
   "metadata": {},
   "source": [
    "The standard deviation of training loss for all the epochs is closed to 0.091"
   ]
  },
  {
   "cell_type": "markdown",
   "id": "137950f8-7cec-46e8-b78a-cfc91b585fc3",
   "metadata": {},
   "source": [
    "## Data Augmentation"
   ]
  },
  {
   "cell_type": "code",
   "execution_count": 14,
   "id": "2f2af30f-f6d8-493f-9a5e-4ce25df8f8ff",
   "metadata": {
    "execution": {
     "iopub.execute_input": "2023-11-19T15:54:20.562367Z",
     "iopub.status.busy": "2023-11-19T15:54:20.562057Z",
     "iopub.status.idle": "2023-11-19T15:54:20.566538Z",
     "shell.execute_reply": "2023-11-19T15:54:20.565761Z",
     "shell.execute_reply.started": "2023-11-19T15:54:20.562347Z"
    },
    "tags": []
   },
   "outputs": [],
   "source": [
    "gen = ImageDataGenerator(\n",
    "    rescale=1./255,\n",
    "    rotation_range=50,\n",
    "    width_shift_range=0.1,\n",
    "    height_shift_range=0.1,\n",
    "    zoom_range=0.1,\n",
    "    horizontal_flip=True,\n",
    "    fill_mode='nearest'\n",
    ")"
   ]
  },
  {
   "cell_type": "code",
   "execution_count": 15,
   "id": "48f842d8-db7d-4d04-8255-7a0e5b71c7fd",
   "metadata": {
    "execution": {
     "iopub.execute_input": "2023-11-19T15:54:20.567654Z",
     "iopub.status.busy": "2023-11-19T15:54:20.567425Z",
     "iopub.status.idle": "2023-11-19T15:54:20.663105Z",
     "shell.execute_reply": "2023-11-19T15:54:20.662398Z",
     "shell.execute_reply.started": "2023-11-19T15:54:20.567634Z"
    },
    "tags": []
   },
   "outputs": [
    {
     "name": "stdout",
     "output_type": "stream",
     "text": [
      "Found 3677 images belonging to 2 classes.\n"
     ]
    }
   ],
   "source": [
    "train_ds = gen.flow_from_directory(\n",
    "    './data/train',\n",
    "    class_mode='binary',\n",
    "    target_size=(150, 150),\n",
    "    batch_size=20,\n",
    "    shuffle=True\n",
    ")"
   ]
  },
  {
   "cell_type": "markdown",
   "id": "c68ab883-7fc0-4110-9fb9-67582f662373",
   "metadata": {},
   "source": [
    "### Question 5"
   ]
  },
  {
   "cell_type": "markdown",
   "id": "f30e8995-add5-4bbb-959d-f6938ce369db",
   "metadata": {},
   "source": [
    "Let's train our model for 10 more epochs using the same code as previously.\n",
    "\n",
    "What is the mean of test loss for all the epochs for the model trained with augmentations?\n",
    "* 0.18\n",
    "* 0.48\n",
    "* 0.78\n",
    "* 0.108"
   ]
  },
  {
   "cell_type": "code",
   "execution_count": 16,
   "id": "497e6325-8fa5-4961-bc94-32ccc8cfe632",
   "metadata": {
    "execution": {
     "iopub.execute_input": "2023-11-19T15:54:20.664371Z",
     "iopub.status.busy": "2023-11-19T15:54:20.664060Z",
     "iopub.status.idle": "2023-11-19T15:58:28.411526Z",
     "shell.execute_reply": "2023-11-19T15:58:28.410809Z",
     "shell.execute_reply.started": "2023-11-19T15:54:20.664350Z"
    },
    "tags": []
   },
   "outputs": [
    {
     "name": "stdout",
     "output_type": "stream",
     "text": [
      "Epoch 1/10\n",
      "184/184 [==============================] - 25s 135ms/step - loss: 0.5115 - accuracy: 0.7490 - val_loss: 0.4857 - val_accuracy: 0.7674\n",
      "Epoch 2/10\n",
      "184/184 [==============================] - 25s 134ms/step - loss: 0.5022 - accuracy: 0.7626 - val_loss: 0.4698 - val_accuracy: 0.7848\n",
      "Epoch 3/10\n",
      "184/184 [==============================] - 25s 134ms/step - loss: 0.4791 - accuracy: 0.7808 - val_loss: 0.4689 - val_accuracy: 0.7793\n",
      "Epoch 4/10\n",
      "184/184 [==============================] - 25s 134ms/step - loss: 0.4721 - accuracy: 0.7707 - val_loss: 0.5093 - val_accuracy: 0.7620\n",
      "Epoch 5/10\n",
      "184/184 [==============================] - 25s 135ms/step - loss: 0.4704 - accuracy: 0.7819 - val_loss: 0.4597 - val_accuracy: 0.7870\n",
      "Epoch 6/10\n",
      "184/184 [==============================] - 25s 135ms/step - loss: 0.4729 - accuracy: 0.7808 - val_loss: 0.4755 - val_accuracy: 0.7826\n",
      "Epoch 7/10\n",
      "184/184 [==============================] - 24s 133ms/step - loss: 0.4652 - accuracy: 0.7854 - val_loss: 0.4621 - val_accuracy: 0.7804\n",
      "Epoch 8/10\n",
      "184/184 [==============================] - 25s 133ms/step - loss: 0.4662 - accuracy: 0.7751 - val_loss: 0.4499 - val_accuracy: 0.8022\n",
      "Epoch 9/10\n",
      "184/184 [==============================] - 25s 134ms/step - loss: 0.4616 - accuracy: 0.7906 - val_loss: 0.4781 - val_accuracy: 0.7837\n",
      "Epoch 10/10\n",
      "184/184 [==============================] - 25s 138ms/step - loss: 0.4608 - accuracy: 0.7881 - val_loss: 0.5466 - val_accuracy: 0.7413\n"
     ]
    }
   ],
   "source": [
    "history = model.fit(train_ds, epochs=10, validation_data=test_ds)"
   ]
  },
  {
   "cell_type": "code",
   "execution_count": 17,
   "id": "2999f5e1-078f-43d8-a2fa-1185d3861ba6",
   "metadata": {
    "execution": {
     "iopub.execute_input": "2023-11-19T15:58:28.412849Z",
     "iopub.status.busy": "2023-11-19T15:58:28.412549Z",
     "iopub.status.idle": "2023-11-19T15:58:28.417967Z",
     "shell.execute_reply": "2023-11-19T15:58:28.417195Z",
     "shell.execute_reply.started": "2023-11-19T15:58:28.412830Z"
    },
    "tags": []
   },
   "outputs": [
    {
     "data": {
      "text/plain": [
       "0.481"
      ]
     },
     "execution_count": 17,
     "metadata": {},
     "output_type": "execute_result"
    }
   ],
   "source": [
    "np.mean(history.history['val_loss']).round(3)"
   ]
  },
  {
   "cell_type": "markdown",
   "id": "d94d4468-e839-4a49-bf3b-12548f26f95f",
   "metadata": {},
   "source": [
    "The mean of test loss for all the epochs is closed to 0.48"
   ]
  },
  {
   "cell_type": "markdown",
   "id": "33767463-6e72-41bc-8a93-53ba67beda0c",
   "metadata": {},
   "source": [
    "### Question 6"
   ]
  },
  {
   "cell_type": "markdown",
   "id": "a1eaf5be-0f49-4f36-9e32-f423fbfbe103",
   "metadata": {},
   "source": [
    "What's the average of test accuracy for the last 5 epochs (from 6 to 10) for the model trained with augmentations?\n",
    "* 0.38\n",
    "* 0.58\n",
    "* 0.78\n",
    "* 0.98"
   ]
  },
  {
   "cell_type": "code",
   "execution_count": 18,
   "id": "989a5482-c919-457b-891c-ceefc458c865",
   "metadata": {
    "execution": {
     "iopub.execute_input": "2023-11-19T15:58:28.419801Z",
     "iopub.status.busy": "2023-11-19T15:58:28.419208Z",
     "iopub.status.idle": "2023-11-19T15:58:28.425477Z",
     "shell.execute_reply": "2023-11-19T15:58:28.424793Z",
     "shell.execute_reply.started": "2023-11-19T15:58:28.419769Z"
    },
    "tags": []
   },
   "outputs": [
    {
     "data": {
      "text/plain": [
       "0.778"
      ]
     },
     "execution_count": 18,
     "metadata": {},
     "output_type": "execute_result"
    }
   ],
   "source": [
    "np.mean(history.history['val_accuracy'][5:]).round(3)"
   ]
  },
  {
   "cell_type": "markdown",
   "id": "186bc669-1cc6-4942-af17-95d22cd5b162",
   "metadata": {},
   "source": [
    "The average of test accuracy for the last 5 epochs is 0.78"
   ]
  },
  {
   "cell_type": "markdown",
   "id": "7f978ca9-4950-40e1-a3d5-eda3f53f1258",
   "metadata": {},
   "source": [
    "## Testing"
   ]
  },
  {
   "cell_type": "code",
   "execution_count": 19,
   "id": "334cfe5f-fa80-498c-9acc-6deb891dffcd",
   "metadata": {
    "execution": {
     "iopub.execute_input": "2023-11-19T15:58:28.426964Z",
     "iopub.status.busy": "2023-11-19T15:58:28.426587Z",
     "iopub.status.idle": "2023-11-19T15:58:28.430595Z",
     "shell.execute_reply": "2023-11-19T15:58:28.429831Z",
     "shell.execute_reply.started": "2023-11-19T15:58:28.426932Z"
    },
    "tags": []
   },
   "outputs": [],
   "source": [
    "from tensorflow.keras.preprocessing.image import load_img"
   ]
  },
  {
   "cell_type": "code",
   "execution_count": 20,
   "id": "ef222347-e703-4d8e-abe3-ea5e3d9f2efc",
   "metadata": {
    "execution": {
     "iopub.execute_input": "2023-11-19T15:58:28.431758Z",
     "iopub.status.busy": "2023-11-19T15:58:28.431494Z",
     "iopub.status.idle": "2023-11-19T15:58:28.466069Z",
     "shell.execute_reply": "2023-11-19T15:58:28.465384Z",
     "shell.execute_reply.started": "2023-11-19T15:58:28.431731Z"
    },
    "tags": []
   },
   "outputs": [
    {
     "data": {
      "image/png": "[encoded data removed]",
      "text/plain": [
       "<PIL.JpegImagePlugin.JpegImageFile image mode=RGB size=319x213>"
      ]
     },
     "execution_count": 20,
     "metadata": {},
     "output_type": "execute_result"
    }
   ],
   "source": [
    "path = './data/test/bee/10024864894_6dc54d4b34_n.jpg'\n",
    "load_img(path)"
   ]
  },
  {
   "cell_type": "code",
   "execution_count": 21,
   "id": "1d883596-7d50-4557-9c34-b01dde35bce7",
   "metadata": {
    "execution": {
     "iopub.execute_input": "2023-11-19T15:58:28.467677Z",
     "iopub.status.busy": "2023-11-19T15:58:28.467304Z",
     "iopub.status.idle": "2023-11-19T15:58:28.476266Z",
     "shell.execute_reply": "2023-11-19T15:58:28.475611Z",
     "shell.execute_reply.started": "2023-11-19T15:58:28.467642Z"
    },
    "tags": []
   },
   "outputs": [
    {
     "data": {
      "text/plain": [
       "(150, 150, 3)"
      ]
     },
     "execution_count": 21,
     "metadata": {},
     "output_type": "execute_result"
    }
   ],
   "source": [
    "img = load_img(path, target_size=(150, 150))\n",
    "x = np.array(img)\n",
    "x.shape"
   ]
  },
  {
   "cell_type": "code",
   "execution_count": 22,
   "id": "38a95b42-6c0a-4d91-a9fe-fd9dfb32b7db",
   "metadata": {
    "execution": {
     "iopub.execute_input": "2023-11-19T15:58:28.479038Z",
     "iopub.status.busy": "2023-11-19T15:58:28.478722Z",
     "iopub.status.idle": "2023-11-19T15:58:28.607921Z",
     "shell.execute_reply": "2023-11-19T15:58:28.607225Z",
     "shell.execute_reply.started": "2023-11-19T15:58:28.479017Z"
    },
    "tags": []
   },
   "outputs": [
    {
     "name": "stdout",
     "output_type": "stream",
     "text": [
      "1/1 [==============================] - 0s 96ms/step\n",
      "It's a bee!\n"
     ]
    }
   ],
   "source": [
    "X = np.array([x])\n",
    "pred = (model.predict(X) > 0.5).astype('int')\n",
    "if pred == 1:\n",
    "    print(\"It's a wasp!\")\n",
    "else:\n",
    "    print(\"It's a bee!\")"
   ]
  }
 ],
 "metadata": {
  "kernelspec": {
   "display_name": "saturn (Python 3)",
   "language": "python",
   "name": "python3"
  },
  "language_info": {
   "codemirror_mode": {
    "name": "ipython",
    "version": 3
   },
   "file_extension": ".py",
   "mimetype": "text/x-python",
   "name": "python",
   "nbconvert_exporter": "python",
   "pygments_lexer": "ipython3",
   "version": "3.9.15"
  }
 },
 "nbformat": 4,
 "nbformat_minor": 5
}
